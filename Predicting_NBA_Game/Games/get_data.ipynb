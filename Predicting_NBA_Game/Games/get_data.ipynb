{
 "cells": [
  {
   "cell_type": "code",
   "execution_count": 1,
   "id": "8358dae7-808b-4351-97d1-90d6f21f306f",
   "metadata": {},
   "outputs": [],
   "source": [
    "import os\n",
    "from bs4 import BeautifulSoup\n",
    "import time"
   ]
  },
  {
   "cell_type": "code",
   "execution_count": 2,
   "id": "9a2511b5-3804-477a-ba08-1b3afda8e03d",
   "metadata": {},
   "outputs": [],
   "source": [
    "SEASONS = list(range(2022,2025))"
   ]
  },
  {
   "cell_type": "code",
   "execution_count": 3,
   "id": "00a301ba-55e3-46fd-8a84-87c6e63cf5e2",
   "metadata": {},
   "outputs": [],
   "source": [
    "DATA_DIR = \"data\"\n",
    "STANDINGS_DIR = os.path.join(DATA_DIR, \"standings\")\n",
    "SCORES_DIR = os.path.join(DATA_DIR, \"scores\")"
   ]
  },
  {
   "cell_type": "code",
   "execution_count": 4,
   "id": "791fd080-689b-42e0-98f7-477140710819",
   "metadata": {},
   "outputs": [],
   "source": [
    "import requests \n",
    "def get_html_by_selector(url, selector):\n",
    "    try:\n",
    "        # Effectuer une requête HTTP GET à l'URL\n",
    "        response = requests.get(url)\n",
    "        response.raise_for_status()  # Lèvera une exception en cas de problème avec la requête\n",
    "\n",
    "        # Vérifier le type de contenu pour s'assurer que c'est du texte/html\n",
    "        content_type = response.headers['Content-Type'].lower()\n",
    "        if 'text/html' not in content_type:\n",
    "            raise ValueError(f\"Le contenu n'est pas HTML: {content_type}\")\n",
    "\n",
    "        # Utiliser BeautifulSoup pour analyser le contenu HTML\n",
    "        soup = BeautifulSoup(response.content, 'html.parser')\n",
    "        # Imprimer le titre de la page\n",
    "        title = soup.title.text.strip()\n",
    "        print(f\"Titre de la page: {title}\")\n",
    "\n",
    "        # Récupérer le contenu HTML du sélecteur spécifié\n",
    "        selected_html = soup.select_one(selector)\n",
    "        if selected_html:\n",
    "            return str(selected_html)\n",
    "\n",
    "        raise ValueError(f\"Sélecteur '{selector}' non trouvé sur la page {url}\")\n",
    "\n",
    "    except requests.exceptions.RequestException as e:\n",
    "        print(f\"Une erreur s'est produite lors de la requête vers {url}: {e}\")\n",
    "        return None\n",
    "    except Exception as e:\n",
    "        print(f\"Une erreur s'est produite lors de l'analyse HTML de {url}: {e}\")\n",
    "        return None"
   ]
  },
  {
   "cell_type": "code",
   "execution_count": 4,
   "id": "b48fe65c-d1e8-4573-8809-d0a0ef320a14",
   "metadata": {},
   "outputs": [],
   "source": [
    "async def get_html(url, selector, sleep=5, retries=3):\n",
    "    html = None\n",
    "    for i in range(1, retries+1):\n",
    "        time.sleep(sleep * i)\n",
    "        try:\n",
    "            async with async_playwright() as p:\n",
    "                browser = await p.firefox.launch()\n",
    "                page = await browser.new_page()\n",
    "                await page.goto(url)\n",
    "                print(await page.title())\n",
    "                html = await page.inner_html(selector)\n",
    "        except PlaywrightTimeout:\n",
    "            print(f\"Timeout error on {url}\")\n",
    "            continue\n",
    "        else:\n",
    "            break\n",
    "    return html"
   ]
  },
  {
   "cell_type": "code",
   "execution_count": 5,
   "id": "e5eca0f6-6a06-4112-92a6-014ba4521e8e",
   "metadata": {},
   "outputs": [],
   "source": [
    "def scrape_season(season):\n",
    "    url = f\"https://www.basketball-reference.com/leagues/NBA_{season}_games.html\"\n",
    "    html = get_html_by_selector(url, \"#content .filter\")\n",
    "    \n",
    "    soup = BeautifulSoup(html)\n",
    "    links = soup.find_all(\"a\")\n",
    "    standings_pages = [f\"https://www.basketball-reference.com{l['href']}\" for l in links]\n",
    "    \n",
    "    for url in standings_pages:\n",
    "        save_path = os.path.join(STANDINGS_DIR, url.split(\"/\")[-1])\n",
    "        if os.path.exists(save_path):\n",
    "            continue\n",
    "        \n",
    "        html = get_html_by_selector(url, \"#all_schedule\")\n",
    "        with open(save_path, \"w+\") as f:\n",
    "            f.write(html)"
   ]
  },
  {
   "cell_type": "code",
   "execution_count": 5,
   "id": "fd7a658e-3bac-4a01-8179-2c17c14f5302",
   "metadata": {},
   "outputs": [],
   "source": [
    "async def scrape_game(standings_file):\n",
    "    with open(standings_file, 'r') as f:\n",
    "        html = f.read()\n",
    "\n",
    "    soup = BeautifulSoup(html)\n",
    "    links = soup.find_all(\"a\")\n",
    "    hrefs = [l.get('href') for l in links]\n",
    "    box_scores = [f\"https://www.basketball-reference.com{l}\" for l in hrefs if l and \"boxscore\" in l and '.html' in l]\n",
    "\n",
    "    for url in box_scores:\n",
    "        save_path = os.path.join(SCORES_DIR, url.split(\"/\")[-1])\n",
    "        if os.path.exists(save_path):\n",
    "            continue\n",
    "\n",
    "        html = await get_html(url, \"#content\")\n",
    "        if not html:\n",
    "            continue\n",
    "        with open(save_path, \"w+\") as f:\n",
    "            f.write(html)"
   ]
  },
  {
   "cell_type": "code",
   "execution_count": 6,
   "id": "9a10600b-2b3a-407c-ab24-2d285780a024",
   "metadata": {},
   "outputs": [],
   "source": [
    "standings_files = os.listdir(STANDINGS_DIR)\n"
   ]
  },
  {
   "cell_type": "code",
   "execution_count": null,
   "id": "62d1d339-3d75-4ed8-acc9-6d322d7ed49b",
   "metadata": {},
   "outputs": [],
   "source": [
    "import pandas as pd\n",
    "\n",
    "for season in SEASONS:\n",
    "    files = [s for s in standings_files if str(season) in s]\n",
    "\n",
    "    for f in files:\n",
    "        filepath = os.path.join(STANDINGS_DIR, f)\n",
    "\n",
    "        await scrape_game(filepath)"
   ]
  }
 ],
 "metadata": {
  "kernelspec": {
   "display_name": "Python 3 (ipykernel)",
   "language": "python",
   "name": "python3"
  },
  "language_info": {
   "codemirror_mode": {
    "name": "ipython",
    "version": 3
   },
   "file_extension": ".py",
   "mimetype": "text/x-python",
   "name": "python",
   "nbconvert_exporter": "python",
   "pygments_lexer": "ipython3",
   "version": "3.12.3"
  }
 },
 "nbformat": 4,
 "nbformat_minor": 5
}
