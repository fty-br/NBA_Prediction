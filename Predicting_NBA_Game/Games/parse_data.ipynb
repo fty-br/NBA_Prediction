{
 "cells": [
  {
   "cell_type": "code",
   "execution_count": 1,
   "id": "3cbe1b43-1f50-4090-a330-e10b468d2b17",
   "metadata": {},
   "outputs": [],
   "source": [
    "import os\n",
    "import pandas as pd\n",
    "\n",
    "SCORE_DIR = \"data/scores\""
   ]
  },
  {
   "cell_type": "code",
   "execution_count": 2,
   "id": "58838932-ac3c-4619-a88c-b0e188450505",
   "metadata": {},
   "outputs": [],
   "source": [
    "box_scores = os.listdir(SCORE_DIR)\n",
    "box_scores = [os.path.join(SCORE_DIR, f) for f in box_scores if f.endswith(\".html\")]"
   ]
  },
  {
   "cell_type": "code",
   "execution_count": 3,
   "id": "1384ff93-f562-4d88-81cc-7e284bc123bf",
   "metadata": {},
   "outputs": [],
   "source": [
    "from bs4 import BeautifulSoup\n",
    "\n",
    "def parse_html(box_score):\n",
    "    with open(box_score) as f:\n",
    "        html = f.read()\n",
    "\n",
    "    soup = BeautifulSoup(html)\n",
    "    [s.decompose() for s in soup.select(\"tr.over_header\")]\n",
    "    [s.decompose() for s in soup.select(\"tr.thead\")]\n",
    "    return soup"
   ]
  },
  {
   "cell_type": "code",
   "execution_count": 4,
   "id": "6e8112fb-2b01-4d64-a5bd-33358e08a4c7",
   "metadata": {},
   "outputs": [],
   "source": [
    "def read_season_info(soup):\n",
    "    nav = soup.select(\"#bottom_nav_container\")[0]\n",
    "    hrefs = [a[\"href\"] for a in nav.find_all('a')]\n",
    "    season = os.path.basename(hrefs[1]).split(\"_\")[0]\n",
    "    return season"
   ]
  },
  {
   "cell_type": "code",
   "execution_count": 5,
   "id": "9fb5a318-8ffc-4996-91d5-e9243274f051",
   "metadata": {},
   "outputs": [],
   "source": [
    "def read_line_score(soup):\n",
    "    line_score = pd.read_html(str(soup), attrs = {'id': 'line_score'})[0]\n",
    "    cols = list(line_score.columns)\n",
    "    cols[0] = \"team\"\n",
    "    cols[-1] = \"total\"\n",
    "    line_score.columns = cols\n",
    "    \n",
    "    line_score = line_score[[\"team\", \"total\"]]\n",
    "    \n",
    "    return line_score"
   ]
  },
  {
   "cell_type": "code",
   "execution_count": 6,
   "id": "68c0ee9f-c0b3-47d7-af06-081fd85b5841",
   "metadata": {},
   "outputs": [],
   "source": [
    "def read_stats(soup, team, stat):\n",
    "    df = pd.read_html(str(soup), attrs = {'id': f'box-{team}-game-{stat}'}, index_col=0)[0]\n",
    "    df = df.apply(pd.to_numeric, errors=\"coerce\")\n",
    "    return df"
   ]
  },
  {
   "cell_type": "code",
   "execution_count": 8,
   "id": "03430928-529a-4473-8608-e8293dc2edc5",
   "metadata": {},
   "outputs": [
    {
     "name": "stderr",
     "output_type": "stream",
     "text": [
      "C:\\Users\\Fatima-Ezzahra BOUR\\AppData\\Local\\Temp\\ipykernel_3988\\2138878849.py:2: FutureWarning: Passing literal html to 'read_html' is deprecated and will be removed in a future version. To read from a literal string, wrap it in a 'StringIO' object.\n",
      "  line_score = pd.read_html(str(soup), attrs = {'id': 'line_score'})[0]\n",
      "C:\\Users\\Fatima-Ezzahra BOUR\\AppData\\Local\\Temp\\ipykernel_3988\\846252781.py:2: FutureWarning: Passing literal html to 'read_html' is deprecated and will be removed in a future version. To read from a literal string, wrap it in a 'StringIO' object.\n",
      "  df = pd.read_html(str(soup), attrs = {'id': f'box-{team}-game-{stat}'}, index_col=0)[0]\n",
      "C:\\Users\\Fatima-Ezzahra BOUR\\AppData\\Local\\Temp\\ipykernel_3988\\846252781.py:2: FutureWarning: Passing literal html to 'read_html' is deprecated and will be removed in a future version. To read from a literal string, wrap it in a 'StringIO' object.\n",
      "  df = pd.read_html(str(soup), attrs = {'id': f'box-{team}-game-{stat}'}, index_col=0)[0]\n",
      "C:\\Users\\Fatima-Ezzahra BOUR\\AppData\\Local\\Temp\\ipykernel_3988\\846252781.py:2: FutureWarning: Passing literal html to 'read_html' is deprecated and will be removed in a future version. To read from a literal string, wrap it in a 'StringIO' object.\n",
      "  df = pd.read_html(str(soup), attrs = {'id': f'box-{team}-game-{stat}'}, index_col=0)[0]\n",
      "C:\\Users\\Fatima-Ezzahra BOUR\\AppData\\Local\\Temp\\ipykernel_3988\\846252781.py:2: FutureWarning: Passing literal html to 'read_html' is deprecated and will be removed in a future version. To read from a literal string, wrap it in a 'StringIO' object.\n",
      "  df = pd.read_html(str(soup), attrs = {'id': f'box-{team}-game-{stat}'}, index_col=0)[0]\n",
      "C:\\Users\\Fatima-Ezzahra BOUR\\AppData\\Local\\Temp\\ipykernel_3988\\2138878849.py:2: FutureWarning: Passing literal html to 'read_html' is deprecated and will be removed in a future version. To read from a literal string, wrap it in a 'StringIO' object.\n",
      "  line_score = pd.read_html(str(soup), attrs = {'id': 'line_score'})[0]\n",
      "C:\\Users\\Fatima-Ezzahra BOUR\\AppData\\Local\\Temp\\ipykernel_3988\\846252781.py:2: FutureWarning: Passing literal html to 'read_html' is deprecated and will be removed in a future version. To read from a literal string, wrap it in a 'StringIO' object.\n",
      "  df = pd.read_html(str(soup), attrs = {'id': f'box-{team}-game-{stat}'}, index_col=0)[0]\n",
      "C:\\Users\\Fatima-Ezzahra BOUR\\AppData\\Local\\Temp\\ipykernel_3988\\846252781.py:2: FutureWarning: Passing literal html to 'read_html' is deprecated and will be removed in a future version. To read from a literal string, wrap it in a 'StringIO' object.\n",
      "  df = pd.read_html(str(soup), attrs = {'id': f'box-{team}-game-{stat}'}, index_col=0)[0]\n",
      "C:\\Users\\Fatima-Ezzahra BOUR\\AppData\\Local\\Temp\\ipykernel_3988\\846252781.py:2: FutureWarning: Passing literal html to 'read_html' is deprecated and will be removed in a future version. To read from a literal string, wrap it in a 'StringIO' object.\n",
      "  df = pd.read_html(str(soup), attrs = {'id': f'box-{team}-game-{stat}'}, index_col=0)[0]\n",
      "C:\\Users\\Fatima-Ezzahra BOUR\\AppData\\Local\\Temp\\ipykernel_3988\\846252781.py:2: FutureWarning: Passing literal html to 'read_html' is deprecated and will be removed in a future version. To read from a literal string, wrap it in a 'StringIO' object.\n",
      "  df = pd.read_html(str(soup), attrs = {'id': f'box-{team}-game-{stat}'}, index_col=0)[0]\n",
      "C:\\Users\\Fatima-Ezzahra BOUR\\AppData\\Local\\Temp\\ipykernel_3988\\2138878849.py:2: FutureWarning: Passing literal html to 'read_html' is deprecated and will be removed in a future version. To read from a literal string, wrap it in a 'StringIO' object.\n",
      "  line_score = pd.read_html(str(soup), attrs = {'id': 'line_score'})[0]\n",
      "C:\\Users\\Fatima-Ezzahra BOUR\\AppData\\Local\\Temp\\ipykernel_3988\\846252781.py:2: FutureWarning: Passing literal html to 'read_html' is deprecated and will be removed in a future version. To read from a literal string, wrap it in a 'StringIO' object.\n",
      "  df = pd.read_html(str(soup), attrs = {'id': f'box-{team}-game-{stat}'}, index_col=0)[0]\n",
      "C:\\Users\\Fatima-Ezzahra BOUR\\AppData\\Local\\Temp\\ipykernel_3988\\846252781.py:2: FutureWarning: Passing literal html to 'read_html' is deprecated and will be removed in a future version. To read from a literal string, wrap it in a 'StringIO' object.\n",
      "  df = pd.read_html(str(soup), attrs = {'id': f'box-{team}-game-{stat}'}, index_col=0)[0]\n",
      "C:\\Users\\Fatima-Ezzahra BOUR\\AppData\\Local\\Temp\\ipykernel_3988\\846252781.py:2: FutureWarning: Passing literal html to 'read_html' is deprecated and will be removed in a future version. To read from a literal string, wrap it in a 'StringIO' object.\n",
      "  df = pd.read_html(str(soup), attrs = {'id': f'box-{team}-game-{stat}'}, index_col=0)[0]\n",
      "C:\\Users\\Fatima-Ezzahra BOUR\\AppData\\Local\\Temp\\ipykernel_3988\\846252781.py:2: FutureWarning: Passing literal html to 'read_html' is deprecated and will be removed in a future version. To read from a literal string, wrap it in a 'StringIO' object.\n",
      "  df = pd.read_html(str(soup), attrs = {'id': f'box-{team}-game-{stat}'}, index_col=0)[0]\n"
     ]
    },
    {
     "ename": "UnicodeDecodeError",
     "evalue": "'charmap' codec can't decode byte 0x8d in position 40681: character maps to <undefined>",
     "output_type": "error",
     "traceback": [
      "\u001b[1;31m---------------------------------------------------------------------------\u001b[0m",
      "\u001b[1;31mUnicodeDecodeError\u001b[0m                        Traceback (most recent call last)",
      "Cell \u001b[1;32mIn[8], line 4\u001b[0m\n\u001b[0;32m      2\u001b[0m base_cols \u001b[38;5;241m=\u001b[39m \u001b[38;5;28;01mNone\u001b[39;00m\n\u001b[0;32m      3\u001b[0m \u001b[38;5;28;01mfor\u001b[39;00m box_score \u001b[38;5;129;01min\u001b[39;00m box_scores:\n\u001b[1;32m----> 4\u001b[0m     soup \u001b[38;5;241m=\u001b[39m \u001b[43mparse_html\u001b[49m\u001b[43m(\u001b[49m\u001b[43mbox_score\u001b[49m\u001b[43m)\u001b[49m\n\u001b[0;32m      6\u001b[0m     line_score \u001b[38;5;241m=\u001b[39m read_line_score(soup)\n\u001b[0;32m      7\u001b[0m     teams \u001b[38;5;241m=\u001b[39m \u001b[38;5;28mlist\u001b[39m(line_score[\u001b[38;5;124m\"\u001b[39m\u001b[38;5;124mteam\u001b[39m\u001b[38;5;124m\"\u001b[39m])\n",
      "Cell \u001b[1;32mIn[3], line 5\u001b[0m, in \u001b[0;36mparse_html\u001b[1;34m(box_score)\u001b[0m\n\u001b[0;32m      3\u001b[0m \u001b[38;5;28;01mdef\u001b[39;00m \u001b[38;5;21mparse_html\u001b[39m(box_score):\n\u001b[0;32m      4\u001b[0m     \u001b[38;5;28;01mwith\u001b[39;00m \u001b[38;5;28mopen\u001b[39m(box_score) \u001b[38;5;28;01mas\u001b[39;00m f:\n\u001b[1;32m----> 5\u001b[0m         html \u001b[38;5;241m=\u001b[39m \u001b[43mf\u001b[49m\u001b[38;5;241;43m.\u001b[39;49m\u001b[43mread\u001b[49m\u001b[43m(\u001b[49m\u001b[43m)\u001b[49m\n\u001b[0;32m      7\u001b[0m     soup \u001b[38;5;241m=\u001b[39m BeautifulSoup(html)\n\u001b[0;32m      8\u001b[0m     [s\u001b[38;5;241m.\u001b[39mdecompose() \u001b[38;5;28;01mfor\u001b[39;00m s \u001b[38;5;129;01min\u001b[39;00m soup\u001b[38;5;241m.\u001b[39mselect(\u001b[38;5;124m\"\u001b[39m\u001b[38;5;124mtr.over_header\u001b[39m\u001b[38;5;124m\"\u001b[39m)]\n",
      "File \u001b[1;32m~\\AppData\\Local\\Programs\\Python\\Python312\\Lib\\encodings\\cp1252.py:23\u001b[0m, in \u001b[0;36mIncrementalDecoder.decode\u001b[1;34m(self, input, final)\u001b[0m\n\u001b[0;32m     22\u001b[0m \u001b[38;5;28;01mdef\u001b[39;00m \u001b[38;5;21mdecode\u001b[39m(\u001b[38;5;28mself\u001b[39m, \u001b[38;5;28minput\u001b[39m, final\u001b[38;5;241m=\u001b[39m\u001b[38;5;28;01mFalse\u001b[39;00m):\n\u001b[1;32m---> 23\u001b[0m     \u001b[38;5;28;01mreturn\u001b[39;00m \u001b[43mcodecs\u001b[49m\u001b[38;5;241;43m.\u001b[39;49m\u001b[43mcharmap_decode\u001b[49m\u001b[43m(\u001b[49m\u001b[38;5;28;43minput\u001b[39;49m\u001b[43m,\u001b[49m\u001b[38;5;28;43mself\u001b[39;49m\u001b[38;5;241;43m.\u001b[39;49m\u001b[43merrors\u001b[49m\u001b[43m,\u001b[49m\u001b[43mdecoding_table\u001b[49m\u001b[43m)\u001b[49m[\u001b[38;5;241m0\u001b[39m]\n",
      "\u001b[1;31mUnicodeDecodeError\u001b[0m: 'charmap' codec can't decode byte 0x8d in position 40681: character maps to <undefined>"
     ]
    }
   ],
   "source": [
    "games = []\n",
    "base_cols = None\n",
    "for box_score in box_scores:\n",
    "    soup = parse_html(box_score)\n",
    "\n",
    "    line_score = read_line_score(soup)\n",
    "    teams = list(line_score[\"team\"])\n",
    "\n",
    "    summaries = []\n",
    "    for team in teams:\n",
    "        basic = read_stats(soup, team, \"basic\")\n",
    "        advanced = read_stats(soup, team, \"advanced\")\n",
    "\n",
    "        totals = pd.concat([basic.iloc[-1,:], advanced.iloc[-1,:]])\n",
    "        totals.index = totals.index.str.lower()\n",
    "\n",
    "        maxes = pd.concat([basic.iloc[:-1].max(), advanced.iloc[:-1].max()])\n",
    "        maxes.index = maxes.index.str.lower() + \"_max\"\n",
    "\n",
    "        summary = pd.concat([totals, maxes])\n",
    "        \n",
    "        if base_cols is None:\n",
    "            base_cols = list(summary.index.drop_duplicates(keep=\"first\"))\n",
    "            base_cols = [b for b in base_cols if \"bpm\" not in b]\n",
    "        \n",
    "        summary = summary[base_cols]\n",
    "        \n",
    "        summaries.append(summary)\n",
    "    summary = pd.concat(summaries, axis=1).T\n",
    "\n",
    "    game = pd.concat([summary, line_score], axis=1)\n",
    "\n",
    "    game[\"home\"] = [0,1]\n",
    "\n",
    "    game_opp = game.iloc[::-1].reset_index()\n",
    "    game_opp.columns += \"_opp\"\n",
    "\n",
    "    full_game = pd.concat([game, game_opp], axis=1)\n",
    "    full_game[\"season\"] = read_season_info(soup)\n",
    "    \n",
    "    full_game[\"date\"] = os.path.basename(box_score)[:8]\n",
    "    full_game[\"date\"] = pd.to_datetime(full_game[\"date\"], format=\"%Y%m%d\")\n",
    "    \n",
    "    full_game[\"won\"] = full_game[\"total\"] > full_game[\"total_opp\"]\n",
    "    games.append(full_game)\n",
    "    \n",
    "    if len(games) % 100 == 0:\n",
    "        print(f\"{len(games)} / {len(box_scores)}\")"
   ]
  },
  {
   "cell_type": "code",
   "execution_count": null,
   "id": "545095ef-071a-41ba-8ed6-23cb894412ea",
   "metadata": {},
   "outputs": [],
   "source": [
    "games_df = pd.concat(games, ignore_index=True)"
   ]
  }
 ],
 "metadata": {
  "kernelspec": {
   "display_name": "Python 3 (ipykernel)",
   "language": "python",
   "name": "python3"
  },
  "language_info": {
   "codemirror_mode": {
    "name": "ipython",
    "version": 3
   },
   "file_extension": ".py",
   "mimetype": "text/x-python",
   "name": "python",
   "nbconvert_exporter": "python",
   "pygments_lexer": "ipython3",
   "version": "3.12.3"
  }
 },
 "nbformat": 4,
 "nbformat_minor": 5
}
